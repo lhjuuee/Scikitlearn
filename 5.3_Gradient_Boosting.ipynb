{
 "cells": [
  {
   "cell_type": "markdown",
   "metadata": {},
   "source": [
    "# Gradient Boosting\n",
    "\n",
    "Gradient Boosting Tree is another ensemble method of decision tree.\n",
    "\n",
    "It makes trees to complement error of previous tree. This is difference with Random Forest.\n",
    "\n",
    "Fundamentally, there is not randomness in gradient boosting.\n",
    "\n",
    "Making **Loss Function** and Optimizing by **Gradient Descent**.\n"
   ]
  },
  {
   "cell_type": "markdown",
   "metadata": {},
   "source": [
    "### Parameters\n",
    "\n",
    "- learning_rate (of gradient descent)"
   ]
  },
  {
   "cell_type": "code",
   "execution_count": 1,
   "metadata": {},
   "outputs": [],
   "source": [
    "from sklearn.datasets import load_breast_cancer\n",
    "cancer = load_breast_cancer()\n",
    "\n",
    "from sklearn.ensemble import GradientBoostingClassifier\n",
    "from sklearn.model_selection import train_test_split\n",
    "\n",
    "X_train, X_test, y_train, y_test = train_test_split(cancer.data, cancer.target, random_state=0)"
   ]
  },
  {
   "cell_type": "code",
   "execution_count": 2,
   "metadata": {},
   "outputs": [
    {
     "name": "stdout",
     "output_type": "stream",
     "text": [
      "Train set accuracy: 1.000\n",
      "Test set accuracy: 0.958\n"
     ]
    }
   ],
   "source": [
    "gbrt = GradientBoostingClassifier(random_state=0)\n",
    "gbrt.fit(X_train, y_train)\n",
    "\n",
    "print(\"Train set accuracy: {:.3f}\".format(gbrt.score(X_train, y_train)))\n",
    "print(\"Test set accuracy: {:.3f}\".format(gbrt.score(X_test, y_test)))"
   ]
  },
  {
   "cell_type": "markdown",
   "metadata": {},
   "source": [
    "It is overfitted.\n",
    "\n",
    "To avoid this, limitation on max depth (pre-prunning), or learning rate can be used."
   ]
  },
  {
   "cell_type": "code",
   "execution_count": 3,
   "metadata": {},
   "outputs": [
    {
     "name": "stdout",
     "output_type": "stream",
     "text": [
      "Train set accuracy: 0.991\n",
      "Test set accuracy: 0.972\n"
     ]
    }
   ],
   "source": [
    "gbrt = GradientBoostingClassifier(random_state=0, max_depth=1)\n",
    "gbrt.fit(X_train, y_train)\n",
    "\n",
    "print(\"Train set accuracy: {:.3f}\".format(gbrt.score(X_train, y_train)))\n",
    "print(\"Test set accuracy: {:.3f}\".format(gbrt.score(X_test, y_test)))"
   ]
  },
  {
   "cell_type": "code",
   "execution_count": 4,
   "metadata": {},
   "outputs": [
    {
     "name": "stdout",
     "output_type": "stream",
     "text": [
      "Train set accuracy: 0.988\n",
      "Test set accuracy: 0.965\n"
     ]
    }
   ],
   "source": [
    "gbrt = GradientBoostingClassifier(random_state=0, learning_rate=0.01)\n",
    "gbrt.fit(X_train, y_train)\n",
    "\n",
    "print(\"Train set accuracy: {:.3f}\".format(gbrt.score(X_train, y_train)))\n",
    "print(\"Test set accuracy: {:.3f}\".format(gbrt.score(X_test, y_test)))"
   ]
  },
  {
   "cell_type": "markdown",
   "metadata": {},
   "source": [
    "Usually, first thing to do is Random Forest which is common to use.\n",
    "\n",
    "But for squeezing performance of model, Gradient Boosting can be used.\n",
    "\n",
    "And **xgboost** is more preferable in real machine learning problem."
   ]
  },
  {
   "cell_type": "markdown",
   "metadata": {},
   "source": [
    "## Tip for parameter tune.\n",
    "\n",
    "n_estimators and learning_rate are mainly influence on model.\n",
    "\n",
    "In Random Forest, the n_estimators is bigger, the better.\n",
    "\n",
    "But in gradient boosting, it cause overfitting. So, after set proper n_estimators, find proper learning rate.\n",
    "\n",
    "\n",
    "Commonly, max_depth(or max_leaf_nodes) is set with very small number in gradient boosting(<= 5)."
   ]
  },
  {
   "cell_type": "code",
   "execution_count": null,
   "metadata": {},
   "outputs": [],
   "source": []
  }
 ],
 "metadata": {
  "kernelspec": {
   "display_name": "Python 3",
   "language": "python",
   "name": "python3"
  },
  "language_info": {
   "codemirror_mode": {
    "name": "ipython",
    "version": 3
   },
   "file_extension": ".py",
   "mimetype": "text/x-python",
   "name": "python",
   "nbconvert_exporter": "python",
   "pygments_lexer": "ipython3",
   "version": "3.6.4"
  }
 },
 "nbformat": 4,
 "nbformat_minor": 2
}
