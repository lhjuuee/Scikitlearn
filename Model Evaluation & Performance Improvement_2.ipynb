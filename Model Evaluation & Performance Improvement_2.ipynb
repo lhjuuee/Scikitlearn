{
 "cells": [
  {
   "cell_type": "markdown",
   "metadata": {},
   "source": [
    "# Model Evaluation & Performance Improvement_2\n",
    "\n",
    "## 2. Grid Search\n",
    "\n",
    "Before, I have gone over about cross validation to get more generalized model. In this section, I am going to go over\n",
    "\n",
    "how to tune parameters easily to make performance better. One of methods is grid search. In grid search, there is a grid to\n",
    "\n",
    "place each value of each parameters, and then, calculate target value to compare all of combination in grid.\n",
    "\n",
    "For example, Let's use SVC to tune C and gamma."
   ]
  },
  {
   "cell_type": "markdown",
   "metadata": {},
   "source": [
    "### 2.1 Simple Grid Search"
   ]
  },
  {
   "cell_type": "code",
   "execution_count": 1,
   "metadata": {},
   "outputs": [
    {
     "name": "stdout",
     "output_type": "stream",
     "text": [
      "Best Score: 0.97\n",
      "Best param: {'C': 100, 'gamma': 0.001}\n"
     ]
    }
   ],
   "source": [
    "# Data load\n",
    "from sklearn.svm import SVC\n",
    "from sklearn.datasets import load_iris\n",
    "from sklearn.model_selection import train_test_split\n",
    "iris = load_iris()\n",
    "X_train, X_test, y_train, y_test = train_test_split(iris.data, iris.target, random_state=0)\n",
    "\n",
    "# Grid search\n",
    "best_score = 0\n",
    "for gamma in [0.001, 0.01, 0.1, 1, 10, 100]:\n",
    "    for C in [0.001, 0.01, 0.1, 1, 10, 100]:\n",
    "        svm = SVC(gamma=gamma, C=C)\n",
    "        svm.fit(X_train, y_train)\n",
    "        score = svm.score(X_test, y_test)\n",
    "        if score > best_score:\n",
    "            best_score = score\n",
    "            best_parameters = {'C': C, 'gamma': gamma}\n",
    "            \n",
    "print(\"Best Score: {:.2f}\".format(best_score))\n",
    "print(\"Best param: {}\".format(best_parameters))"
   ]
  },
  {
   "cell_type": "markdown",
   "metadata": {},
   "source": [
    "It realize simple grid search method. We made every combination of gamma and C and compare each score obtained by a test set.\n",
    "\n",
    "We can understand how it works. But it's not ideal way to use grid search. Because We can't say this model is generalized.\n",
    "\n",
    "Only one test set is used for evaluating. Rather than this process, We have to do cross validation to get more generalized model in\n",
    "\n",
    "training set, and finally use test set only one time."
   ]
  },
  {
   "cell_type": "code",
   "execution_count": 2,
   "metadata": {},
   "outputs": [],
   "source": [
    "import mglearn\n",
    "mglearn.plots.plot_grid_search_overview()"
   ]
  },
  {
   "cell_type": "markdown",
   "metadata": {},
   "source": [
    "**Train** for construct, **dev** for tuning parameters, **test** for real test."
   ]
  },
  {
   "cell_type": "markdown",
   "metadata": {},
   "source": [
    "### 2.2 GridSearchCV in scikit-learn\n",
    "\n",
    "This proess is provided by scikit-learn. By defining parameters to compare as dictionary, we can fine-tune parameters."
   ]
  },
  {
   "cell_type": "code",
   "execution_count": 3,
   "metadata": {},
   "outputs": [],
   "source": [
    "# Define grid\n",
    "param_grid = {'C': [0.001, 0.01, 0.1, 1, 10, 100],\n",
    "              'gamma': [0.001, 0.01, 0.1, 1, 10, 100]}\n",
    "\n",
    "# Define grid search method\n",
    "from sklearn.model_selection import GridSearchCV\n",
    "from sklearn.svm import SVC\n",
    "grid_search = GridSearchCV(SVC(), param_grid, cv=5)"
   ]
  },
  {
   "cell_type": "markdown",
   "metadata": {},
   "source": [
    "As it shows, cross-validation is available in GridSearchCV. It uses training set for cross-validation.\n",
    "\n",
    "And we need to split another dataset for test set to get more objectivity.\n",
    "\n"
   ]
  },
  {
   "cell_type": "code",
   "execution_count": 4,
   "metadata": {},
   "outputs": [],
   "source": [
    "X_train, X_test, y_train, y_test = train_test_split(iris.data, iris.target, random_state=0)"
   ]
  },
  {
   "cell_type": "code",
   "execution_count": 5,
   "metadata": {},
   "outputs": [
    {
     "data": {
      "text/plain": [
       "GridSearchCV(cv=5, error_score='raise',\n",
       "       estimator=SVC(C=1.0, cache_size=200, class_weight=None, coef0=0.0,\n",
       "  decision_function_shape='ovr', degree=3, gamma='auto', kernel='rbf',\n",
       "  max_iter=-1, probability=False, random_state=None, shrinking=True,\n",
       "  tol=0.001, verbose=False),\n",
       "       fit_params=None, iid=True, n_jobs=1,\n",
       "       param_grid={'C': [0.001, 0.01, 0.1, 1, 10, 100], 'gamma': [0.001, 0.01, 0.1, 1, 10, 100]},\n",
       "       pre_dispatch='2*n_jobs', refit=True, return_train_score='warn',\n",
       "       scoring=None, verbose=0)"
      ]
     },
     "execution_count": 5,
     "metadata": {},
     "output_type": "execute_result"
    }
   ],
   "source": [
    "grid_search.fit(X_train, y_train)"
   ]
  },
  {
   "cell_type": "markdown",
   "metadata": {},
   "source": [
    "GridSearchCV has **fit, predict and score** methods.\n",
    "- fit\n",
    "- predict\n",
    "- score"
   ]
  },
  {
   "cell_type": "code",
   "execution_count": 6,
   "metadata": {},
   "outputs": [
    {
     "name": "stdout",
     "output_type": "stream",
     "text": [
      "Test Score: 0.97\n"
     ]
    }
   ],
   "source": [
    "print(\"Test Score: {:.2f}\".format(grid_search.score(X_test, y_test)))"
   ]
  },
  {
   "cell_type": "markdown",
   "metadata": {},
   "source": [
    "Importantly, test set is not used for parameters.\n",
    "\n",
    "Parameters is in \n",
    "- best_params_\n",
    "\n",
    "and score is in \n",
    "- best_score_."
   ]
  },
  {
   "cell_type": "code",
   "execution_count": 7,
   "metadata": {},
   "outputs": [
    {
     "name": "stdout",
     "output_type": "stream",
     "text": [
      "Best parameters: {'C': 100, 'gamma': 0.01}\n",
      "Best cross-validation score: 0.9732142857142857\n"
     ]
    }
   ],
   "source": [
    "print(\"Best parameters: {}\".format(grid_search.best_params_))\n",
    "print(\"Best cross-validation score: {}\".format(grid_search.best_score_))"
   ]
  },
  {
   "cell_type": "markdown",
   "metadata": {},
   "source": [
    "To access to model directly to get model's method like feature importances\n",
    "\n",
    "- best_estimators"
   ]
  },
  {
   "cell_type": "code",
   "execution_count": 8,
   "metadata": {},
   "outputs": [
    {
     "name": "stdout",
     "output_type": "stream",
     "text": [
      "Best model: \n",
      "SVC(C=100, cache_size=200, class_weight=None, coef0=0.0,\n",
      "  decision_function_shape='ovr', degree=3, gamma=0.01, kernel='rbf',\n",
      "  max_iter=-1, probability=False, random_state=None, shrinking=True,\n",
      "  tol=0.001, verbose=False)\n"
     ]
    }
   ],
   "source": [
    "print(\"Best model: \\n{}\".format(grid_search.best_estimator_))"
   ]
  },
  {
   "cell_type": "markdown",
   "metadata": {},
   "source": [
    "### 2.3 Visualization\n",
    "\n",
    "We can transfrom result of grid search as dataframe or heat map. It helps us compare and explore which range of parameters has influence.\n",
    "\n",
    "Normally, since its computational expense is large, Starting from rough range and small number of grid is recommended.\n",
    "\n",
    "Result of grid search is in \n",
    "\n",
    "- cv_results_"
   ]
  },
  {
   "cell_type": "code",
   "execution_count": 9,
   "metadata": {},
   "outputs": [
    {
     "name": "stderr",
     "output_type": "stream",
     "text": [
      "C:\\Anaconda_\\lib\\site-packages\\sklearn\\utils\\deprecation.py:122: FutureWarning: You are accessing a training score ('mean_train_score'), which will not be available by default any more in 0.21. If you need training scores, please set return_train_score=True\n",
      "  warnings.warn(*warn_args, **warn_kwargs)\n",
      "C:\\Anaconda_\\lib\\site-packages\\sklearn\\utils\\deprecation.py:122: FutureWarning: You are accessing a training score ('split0_train_score'), which will not be available by default any more in 0.21. If you need training scores, please set return_train_score=True\n",
      "  warnings.warn(*warn_args, **warn_kwargs)\n",
      "C:\\Anaconda_\\lib\\site-packages\\sklearn\\utils\\deprecation.py:122: FutureWarning: You are accessing a training score ('split1_train_score'), which will not be available by default any more in 0.21. If you need training scores, please set return_train_score=True\n",
      "  warnings.warn(*warn_args, **warn_kwargs)\n",
      "C:\\Anaconda_\\lib\\site-packages\\sklearn\\utils\\deprecation.py:122: FutureWarning: You are accessing a training score ('split2_train_score'), which will not be available by default any more in 0.21. If you need training scores, please set return_train_score=True\n",
      "  warnings.warn(*warn_args, **warn_kwargs)\n",
      "C:\\Anaconda_\\lib\\site-packages\\sklearn\\utils\\deprecation.py:122: FutureWarning: You are accessing a training score ('split3_train_score'), which will not be available by default any more in 0.21. If you need training scores, please set return_train_score=True\n",
      "  warnings.warn(*warn_args, **warn_kwargs)\n",
      "C:\\Anaconda_\\lib\\site-packages\\sklearn\\utils\\deprecation.py:122: FutureWarning: You are accessing a training score ('split4_train_score'), which will not be available by default any more in 0.21. If you need training scores, please set return_train_score=True\n",
      "  warnings.warn(*warn_args, **warn_kwargs)\n",
      "C:\\Anaconda_\\lib\\site-packages\\sklearn\\utils\\deprecation.py:122: FutureWarning: You are accessing a training score ('std_train_score'), which will not be available by default any more in 0.21. If you need training scores, please set return_train_score=True\n",
      "  warnings.warn(*warn_args, **warn_kwargs)\n"
     ]
    },
    {
     "data": {
      "text/html": [
       "<div>\n",
       "<style scoped>\n",
       "    .dataframe tbody tr th:only-of-type {\n",
       "        vertical-align: middle;\n",
       "    }\n",
       "\n",
       "    .dataframe tbody tr th {\n",
       "        vertical-align: top;\n",
       "    }\n",
       "\n",
       "    .dataframe thead th {\n",
       "        text-align: right;\n",
       "    }\n",
       "</style>\n",
       "<table border=\"1\" class=\"dataframe\">\n",
       "  <thead>\n",
       "    <tr style=\"text-align: right;\">\n",
       "      <th></th>\n",
       "      <th>mean_fit_time</th>\n",
       "      <th>mean_score_time</th>\n",
       "      <th>mean_test_score</th>\n",
       "      <th>mean_train_score</th>\n",
       "      <th>param_C</th>\n",
       "      <th>param_gamma</th>\n",
       "      <th>params</th>\n",
       "      <th>rank_test_score</th>\n",
       "      <th>split0_test_score</th>\n",
       "      <th>split0_train_score</th>\n",
       "      <th>...</th>\n",
       "      <th>split2_test_score</th>\n",
       "      <th>split2_train_score</th>\n",
       "      <th>split3_test_score</th>\n",
       "      <th>split3_train_score</th>\n",
       "      <th>split4_test_score</th>\n",
       "      <th>split4_train_score</th>\n",
       "      <th>std_fit_time</th>\n",
       "      <th>std_score_time</th>\n",
       "      <th>std_test_score</th>\n",
       "      <th>std_train_score</th>\n",
       "    </tr>\n",
       "  </thead>\n",
       "  <tbody>\n",
       "    <tr>\n",
       "      <th>0</th>\n",
       "      <td>0.001396</td>\n",
       "      <td>0.000798</td>\n",
       "      <td>0.366071</td>\n",
       "      <td>0.366079</td>\n",
       "      <td>0.001</td>\n",
       "      <td>0.001</td>\n",
       "      <td>{'C': 0.001, 'gamma': 0.001}</td>\n",
       "      <td>22</td>\n",
       "      <td>0.375</td>\n",
       "      <td>0.363636</td>\n",
       "      <td>...</td>\n",
       "      <td>0.363636</td>\n",
       "      <td>0.366667</td>\n",
       "      <td>0.363636</td>\n",
       "      <td>0.366667</td>\n",
       "      <td>0.380952</td>\n",
       "      <td>0.362637</td>\n",
       "      <td>0.000490</td>\n",
       "      <td>0.000399</td>\n",
       "      <td>0.011371</td>\n",
       "      <td>0.002852</td>\n",
       "    </tr>\n",
       "    <tr>\n",
       "      <th>1</th>\n",
       "      <td>0.001396</td>\n",
       "      <td>0.000598</td>\n",
       "      <td>0.366071</td>\n",
       "      <td>0.366079</td>\n",
       "      <td>0.001</td>\n",
       "      <td>0.01</td>\n",
       "      <td>{'C': 0.001, 'gamma': 0.01}</td>\n",
       "      <td>22</td>\n",
       "      <td>0.375</td>\n",
       "      <td>0.363636</td>\n",
       "      <td>...</td>\n",
       "      <td>0.363636</td>\n",
       "      <td>0.366667</td>\n",
       "      <td>0.363636</td>\n",
       "      <td>0.366667</td>\n",
       "      <td>0.380952</td>\n",
       "      <td>0.362637</td>\n",
       "      <td>0.000490</td>\n",
       "      <td>0.000488</td>\n",
       "      <td>0.011371</td>\n",
       "      <td>0.002852</td>\n",
       "    </tr>\n",
       "    <tr>\n",
       "      <th>2</th>\n",
       "      <td>0.001594</td>\n",
       "      <td>0.000401</td>\n",
       "      <td>0.366071</td>\n",
       "      <td>0.366079</td>\n",
       "      <td>0.001</td>\n",
       "      <td>0.1</td>\n",
       "      <td>{'C': 0.001, 'gamma': 0.1}</td>\n",
       "      <td>22</td>\n",
       "      <td>0.375</td>\n",
       "      <td>0.363636</td>\n",
       "      <td>...</td>\n",
       "      <td>0.363636</td>\n",
       "      <td>0.366667</td>\n",
       "      <td>0.363636</td>\n",
       "      <td>0.366667</td>\n",
       "      <td>0.380952</td>\n",
       "      <td>0.362637</td>\n",
       "      <td>0.000488</td>\n",
       "      <td>0.000491</td>\n",
       "      <td>0.011371</td>\n",
       "      <td>0.002852</td>\n",
       "    </tr>\n",
       "    <tr>\n",
       "      <th>3</th>\n",
       "      <td>0.001197</td>\n",
       "      <td>0.000800</td>\n",
       "      <td>0.366071</td>\n",
       "      <td>0.366079</td>\n",
       "      <td>0.001</td>\n",
       "      <td>1</td>\n",
       "      <td>{'C': 0.001, 'gamma': 1}</td>\n",
       "      <td>22</td>\n",
       "      <td>0.375</td>\n",
       "      <td>0.363636</td>\n",
       "      <td>...</td>\n",
       "      <td>0.363636</td>\n",
       "      <td>0.366667</td>\n",
       "      <td>0.363636</td>\n",
       "      <td>0.366667</td>\n",
       "      <td>0.380952</td>\n",
       "      <td>0.362637</td>\n",
       "      <td>0.000399</td>\n",
       "      <td>0.000400</td>\n",
       "      <td>0.011371</td>\n",
       "      <td>0.002852</td>\n",
       "    </tr>\n",
       "    <tr>\n",
       "      <th>4</th>\n",
       "      <td>0.001207</td>\n",
       "      <td>0.000598</td>\n",
       "      <td>0.366071</td>\n",
       "      <td>0.366079</td>\n",
       "      <td>0.001</td>\n",
       "      <td>10</td>\n",
       "      <td>{'C': 0.001, 'gamma': 10}</td>\n",
       "      <td>22</td>\n",
       "      <td>0.375</td>\n",
       "      <td>0.363636</td>\n",
       "      <td>...</td>\n",
       "      <td>0.363636</td>\n",
       "      <td>0.366667</td>\n",
       "      <td>0.363636</td>\n",
       "      <td>0.366667</td>\n",
       "      <td>0.380952</td>\n",
       "      <td>0.362637</td>\n",
       "      <td>0.000418</td>\n",
       "      <td>0.000489</td>\n",
       "      <td>0.011371</td>\n",
       "      <td>0.002852</td>\n",
       "    </tr>\n",
       "  </tbody>\n",
       "</table>\n",
       "<p>5 rows × 22 columns</p>\n",
       "</div>"
      ],
      "text/plain": [
       "   mean_fit_time  mean_score_time  mean_test_score  mean_train_score param_C  \\\n",
       "0       0.001396         0.000798         0.366071          0.366079   0.001   \n",
       "1       0.001396         0.000598         0.366071          0.366079   0.001   \n",
       "2       0.001594         0.000401         0.366071          0.366079   0.001   \n",
       "3       0.001197         0.000800         0.366071          0.366079   0.001   \n",
       "4       0.001207         0.000598         0.366071          0.366079   0.001   \n",
       "\n",
       "  param_gamma                        params  rank_test_score  \\\n",
       "0       0.001  {'C': 0.001, 'gamma': 0.001}               22   \n",
       "1        0.01   {'C': 0.001, 'gamma': 0.01}               22   \n",
       "2         0.1    {'C': 0.001, 'gamma': 0.1}               22   \n",
       "3           1      {'C': 0.001, 'gamma': 1}               22   \n",
       "4          10     {'C': 0.001, 'gamma': 10}               22   \n",
       "\n",
       "   split0_test_score  split0_train_score       ...         split2_test_score  \\\n",
       "0              0.375            0.363636       ...                  0.363636   \n",
       "1              0.375            0.363636       ...                  0.363636   \n",
       "2              0.375            0.363636       ...                  0.363636   \n",
       "3              0.375            0.363636       ...                  0.363636   \n",
       "4              0.375            0.363636       ...                  0.363636   \n",
       "\n",
       "   split2_train_score  split3_test_score  split3_train_score  \\\n",
       "0            0.366667           0.363636            0.366667   \n",
       "1            0.366667           0.363636            0.366667   \n",
       "2            0.366667           0.363636            0.366667   \n",
       "3            0.366667           0.363636            0.366667   \n",
       "4            0.366667           0.363636            0.366667   \n",
       "\n",
       "   split4_test_score  split4_train_score  std_fit_time  std_score_time  \\\n",
       "0           0.380952            0.362637      0.000490        0.000399   \n",
       "1           0.380952            0.362637      0.000490        0.000488   \n",
       "2           0.380952            0.362637      0.000488        0.000491   \n",
       "3           0.380952            0.362637      0.000399        0.000400   \n",
       "4           0.380952            0.362637      0.000418        0.000489   \n",
       "\n",
       "   std_test_score  std_train_score  \n",
       "0        0.011371         0.002852  \n",
       "1        0.011371         0.002852  \n",
       "2        0.011371         0.002852  \n",
       "3        0.011371         0.002852  \n",
       "4        0.011371         0.002852  \n",
       "\n",
       "[5 rows x 22 columns]"
      ]
     },
     "metadata": {},
     "output_type": "display_data"
    }
   ],
   "source": [
    "import pandas as pd\n",
    "results = pd.DataFrame(grid_search.cv_results_)\n",
    "display(results.head())"
   ]
  },
  {
   "cell_type": "markdown",
   "metadata": {},
   "source": [
    "Draw mean_test_score to make heat map."
   ]
  },
  {
   "cell_type": "code",
   "execution_count": 10,
   "metadata": {},
   "outputs": [
    {
     "data": {
      "text/plain": [
       "<matplotlib.collections.PolyCollection at 0x1fc73c55dd8>"
      ]
     },
     "execution_count": 10,
     "metadata": {},
     "output_type": "execute_result"
    },
    {
     "data": {
      "image/png": "[encoded data removed]",
      "text/plain": [
       "<matplotlib.figure.Figure at 0x1fc73c069b0>"
      ]
     },
     "metadata": {},
     "output_type": "display_data"
    }
   ],
   "source": [
    "import numpy as np\n",
    "scores = np.array(results.mean_test_score).reshape(6, 6)\n",
    "\n",
    "mglearn.tools.heatmap(scores, xlabel='gamma', xticklabels=param_grid['gamma'], ylabel='C', \n",
    "                      yticklabels=param_grid['C'], cmap=\"viridis\")"
   ]
  }
 ],
 "metadata": {
  "kernelspec": {
   "display_name": "Python 3",
   "language": "python",
   "name": "python3"
  },
  "language_info": {
   "codemirror_mode": {
    "name": "ipython",
    "version": 3
   },
   "file_extension": ".py",
   "mimetype": "text/x-python",
   "name": "python",
   "nbconvert_exporter": "python",
   "pygments_lexer": "ipython3",
   "version": "3.6.4"
  }
 },
 "nbformat": 4,
 "nbformat_minor": 2
}
